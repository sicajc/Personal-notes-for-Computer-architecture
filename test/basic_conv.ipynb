{
 "cells": [
  {
   "cell_type": "code",
   "execution_count": 12,
   "metadata": {},
   "outputs": [
    {
     "name": "stdout",
     "output_type": "stream",
     "text": [
      "[8, 99, 40, 25, 62, 3, 83, 99, 21, 66, 37, 46, 25, 44, 24, 26, 94, 57, 7, 12, 22, 39, 98, 91, 32, 25, 57, 3, 23]\n"
     ]
    }
   ],
   "source": [
    "import random\n",
    "img = []\n",
    "for i in range(0,512):\n",
    "    img.append([])\n",
    "    for j in range(0,512):\n",
    "        img[i].append(random.randint(0,99))\n",
    "        \n",
    "print(img[1][1:30])"
   ]
  },
  {
   "cell_type": "code",
   "execution_count": 25,
   "metadata": {},
   "outputs": [
    {
     "ename": "IndexError",
     "evalue": "list index out of range",
     "output_type": "error",
     "traceback": [
      "\u001b[1;31m---------------------------------------------------------------------------\u001b[0m",
      "\u001b[1;31mIndexError\u001b[0m                                Traceback (most recent call last)",
      "\u001b[1;32mc:\\Users\\User\\Desktop\\Digital_design_Personal_Note\\test\\basic_conv.ipynb Cell 2\u001b[0m in \u001b[0;36m<cell line: 2>\u001b[1;34m()\u001b[0m\n\u001b[0;32m     <a href='vscode-notebook-cell:/c%3A/Users/User/Desktop/Digital_design_Personal_Note/test/basic_conv.ipynb#W0sZmlsZQ%3D%3D?line=10'>11</a>\u001b[0m             mac \u001b[39m=\u001b[39m mac \u001b[39m+\u001b[39m \u001b[39m0\u001b[39m\n\u001b[0;32m     <a href='vscode-notebook-cell:/c%3A/Users/User/Desktop/Digital_design_Personal_Note/test/basic_conv.ipynb#W0sZmlsZQ%3D%3D?line=11'>12</a>\u001b[0m         \u001b[39melse\u001b[39;00m:\n\u001b[1;32m---> <a href='vscode-notebook-cell:/c%3A/Users/User/Desktop/Digital_design_Personal_Note/test/basic_conv.ipynb#W0sZmlsZQ%3D%3D?line=12'>13</a>\u001b[0m             mac \u001b[39m=\u001b[39m mac \u001b[39m+\u001b[39m img[lrptr][lcptr]\n\u001b[0;32m     <a href='vscode-notebook-cell:/c%3A/Users/User/Desktop/Digital_design_Personal_Note/test/basic_conv.ipynb#W0sZmlsZQ%3D%3D?line=14'>15</a>\u001b[0m \u001b[39mif\u001b[39;00m mac \u001b[39m<\u001b[39m \u001b[39m0\u001b[39m : mac \u001b[39m=\u001b[39m \u001b[39m0\u001b[39m\n\u001b[0;32m     <a href='vscode-notebook-cell:/c%3A/Users/User/Desktop/Digital_design_Personal_Note/test/basic_conv.ipynb#W0sZmlsZQ%3D%3D?line=15'>16</a>\u001b[0m conv_img[rptr\u001b[39m-\u001b[39m\u001b[39m1\u001b[39m]\u001b[39m.\u001b[39mappend(mac)         \n",
      "\u001b[1;31mIndexError\u001b[0m: list index out of range"
     ]
    }
   ],
   "source": [
    "\n",
    "conv_img = []\n",
    "for rptr in range(1,513):\n",
    "    conv_img.append([])\n",
    "    for cptr in range(1,513):\n",
    "        mac = 0\n",
    "        for i in range(0,2):\n",
    "            for j in range(0,2):\n",
    "                lrptr = rptr + i - 1\n",
    "                lcptr = cptr + j - 1\n",
    "                if(lrptr == 0 or lcptr == 0 or lrptr == 513 or lcptr == 513):\n",
    "                    mac = mac + 0\n",
    "                else:\n",
    "                    mac = mac + img[lrptr][lcptr]\n",
    "                \n",
    "        if mac < 0 : mac = 0\n",
    "        conv_img[rptr-1].append(mac)         \n",
    "                          \n",
    "print(conv_img[0][0:3])\n",
    "print(len(conv_img[0]))\n"
   ]
  },
  {
   "cell_type": "code",
   "execution_count": null,
   "metadata": {},
   "outputs": [],
   "source": []
  }
 ],
 "metadata": {
  "kernelspec": {
   "display_name": "Python 3",
   "language": "python",
   "name": "python3"
  },
  "language_info": {
   "codemirror_mode": {
    "name": "ipython",
    "version": 3
   },
   "file_extension": ".py",
   "mimetype": "text/x-python",
   "name": "python",
   "nbconvert_exporter": "python",
   "pygments_lexer": "ipython3",
   "version": "3.9.12"
  },
  "orig_nbformat": 4,
  "vscode": {
   "interpreter": {
    "hash": "f08154012ddadd8e950e6e9e035c7a7b32c136e7647e9b7c77e02eb723a8bedb"
   }
  }
 },
 "nbformat": 4,
 "nbformat_minor": 2
}
